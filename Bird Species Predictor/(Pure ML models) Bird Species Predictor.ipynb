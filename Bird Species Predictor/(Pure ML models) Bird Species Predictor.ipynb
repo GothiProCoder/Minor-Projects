{
 "cells": [
  {
   "cell_type": "code",
   "execution_count": null,
   "id": "8ba1900f-f317-4282-b4c6-4c1086d154dd",
   "metadata": {},
   "outputs": [],
   "source": [
    "import pandas as pd\n",
    "\n",
    "imgatt = pd.read_csv('Bird Species/attributes/image_attribute_labels.txt',\n",
    "                     sep = '\\s+', header = None, on_bad_lines='skip',\n",
    "                     usecols=[0,1,2], names=['imgid', 'attid', 'present'])"
   ]
  },
  {
   "cell_type": "code",
   "execution_count": null,
   "id": "f36dd9bc-6daa-411a-9a72-23632542961a",
   "metadata": {},
   "outputs": [],
   "source": [
    "imgatt.head()"
   ]
  },
  {
   "cell_type": "code",
   "execution_count": null,
   "id": "29904bee-b462-4f16-93c3-d21753bd8e87",
   "metadata": {},
   "outputs": [],
   "source": [
    "imgatt.shape"
   ]
  },
  {
   "cell_type": "code",
   "execution_count": null,
   "id": "8b3131ae-ab23-450f-a2e6-f0787bd00475",
   "metadata": {},
   "outputs": [],
   "source": [
    "imgatt2 = pd.pivot(imgatt, index='imgid', columns='attid', values='present')"
   ]
  },
  {
   "cell_type": "code",
   "execution_count": null,
   "id": "956790d2-8ad4-4630-b80a-86b389535316",
   "metadata": {},
   "outputs": [],
   "source": [
    "imgatt2.head()"
   ]
  },
  {
   "cell_type": "code",
   "execution_count": null,
   "id": "c1df083e-2ecd-4220-8bb4-361d8a650e66",
   "metadata": {},
   "outputs": [],
   "source": [
    "imgatt2.shape"
   ]
  },
  {
   "cell_type": "code",
   "execution_count": null,
   "id": "8e2f27ae-3272-4ef1-ba8d-5d6a4cbf898f",
   "metadata": {},
   "outputs": [],
   "source": [
    "imglabels = pd.read_csv('Bird Species/image_class_labels.txt',\n",
    "                       sep=' ', header = None, names = ['imgid', 'label'])\n",
    "imglabels = imglabels.set_index('imgid')"
   ]
  },
  {
   "cell_type": "code",
   "execution_count": null,
   "id": "85075924-948f-4f9d-81c7-369dd245c235",
   "metadata": {},
   "outputs": [],
   "source": [
    "imglabels.head()"
   ]
  },
  {
   "cell_type": "code",
   "execution_count": null,
   "id": "e3756b3b-88a2-4050-893f-a79036cb69d8",
   "metadata": {},
   "outputs": [],
   "source": [
    "imglabels.shape"
   ]
  },
  {
   "cell_type": "code",
   "execution_count": null,
   "id": "c82da13c-825b-4566-b0c4-85c7257d4cba",
   "metadata": {},
   "outputs": [],
   "source": [
    "df = imgatt2.join(imglabels)\n",
    "df = df.sample(frac=1)"
   ]
  },
  {
   "cell_type": "code",
   "execution_count": null,
   "id": "b56c578e-e9fb-4498-a010-2ee2932513f9",
   "metadata": {},
   "outputs": [],
   "source": [
    "df_att=df.iloc[:, :312]\n",
    "df_label = df.iloc[:, 312:]"
   ]
  },
  {
   "cell_type": "code",
   "execution_count": null,
   "id": "977fdbdc-7069-4c69-8ef2-e5708c28f77e",
   "metadata": {},
   "outputs": [],
   "source": [
    "df_att.head()"
   ]
  },
  {
   "cell_type": "code",
   "execution_count": null,
   "id": "a9faa810-38e0-4c50-8d37-26909ff53d3a",
   "metadata": {},
   "outputs": [],
   "source": [
    "df_label.head()"
   ]
  },
  {
   "cell_type": "code",
   "execution_count": null,
   "id": "08d9ba16-03d0-42a0-983d-d80ff80cfa85",
   "metadata": {},
   "outputs": [],
   "source": [
    "df_train_att = df_att[:8000]\n",
    "df_train_label = df_label[:8000]\n",
    "df_test_att = df_att[8000:]\n",
    "df_test_label = df_label[8000:]\n",
    "\n",
    "df_train_label = df_train_label['label']\n",
    "df_test_label = df_test_label['label']"
   ]
  },
  {
   "cell_type": "code",
   "execution_count": null,
   "id": "a81fbbdb-c139-406c-8d9d-fcf2dae00cfc",
   "metadata": {},
   "outputs": [],
   "source": [
    "from sklearn.ensemble import RandomForestClassifier\n",
    "cif = RandomForestClassifier(max_features=50, random_state=0, n_estimators=100)"
   ]
  },
  {
   "cell_type": "code",
   "execution_count": null,
   "id": "7dc85c0d-9e3a-4a77-a695-114462469e85",
   "metadata": {},
   "outputs": [],
   "source": [
    "cif.fit(df_train_att, df_train_label)"
   ]
  },
  {
   "cell_type": "code",
   "execution_count": null,
   "id": "1791f5a6-fd19-4c30-8dce-870c30fd7f19",
   "metadata": {},
   "outputs": [],
   "source": [
    "print(cif.predict(df_train_att.head()))"
   ]
  },
  {
   "cell_type": "code",
   "execution_count": null,
   "id": "6369fe34-e46b-469d-a89c-1c3605dbbe8f",
   "metadata": {},
   "outputs": [],
   "source": [
    "cif.score(df_test_att, df_test_label)"
   ]
  },
  {
   "cell_type": "code",
   "execution_count": null,
   "id": "359727c5-8b55-4a79-9828-47d0fbd98488",
   "metadata": {},
   "outputs": [],
   "source": [
    "from sklearn.metrics import confusion_matrix\n",
    "pred_labels = cif.predict(df_test_att)\n",
    "cm = confusion_matrix(df_test_label, pred_labels)"
   ]
  },
  {
   "cell_type": "code",
   "execution_count": null,
   "id": "9db9ae17-60d2-40b2-acef-4828e57fd105",
   "metadata": {},
   "outputs": [],
   "source": [
    "cm"
   ]
  },
  {
   "cell_type": "code",
   "execution_count": null,
   "id": "8451e6cc-2b21-4149-b636-4fa9eab09233",
   "metadata": {},
   "outputs": [],
   "source": [
    "import numpy as np\n",
    "import matplotlib.pyplot as plt\n",
    "import itertools\n",
    "\n",
    "def plot_confusion_matrix(cm, classes, normalize=False, title='Confusion matrix', cmap=plt.cm.Blues):\n",
    "    \"\"\"\n",
    "    This function prints and plots the confusion matrix.\n",
    "    Normalization can be applied by setting normalize=True.\n",
    "    \"\"\"\n",
    "    if normalize:\n",
    "        cm = cm.astype('float') / cm.sum(axis=1, keepdims=True)\n",
    "        cm = np.nan_to_num(cm)  # Handles division by zero\n",
    "        print(\"Normalized confusion matrix\")\n",
    "    else:\n",
    "        print(\"Confusion matrix, without normalization\")\n",
    "\n",
    "    print(cm)\n",
    "\n",
    "    plt.imshow(cm, interpolation='nearest', cmap=cmap)\n",
    "    plt.title(title)\n",
    "    plt.colorbar()\n",
    "\n",
    "    tick_marks = np.arange(len(classes))\n",
    "    plt.xticks(tick_marks, classes, rotation=90)\n",
    "    plt.yticks(tick_marks, classes)\n",
    "\n",
    "    fmt = '.2f' if normalize else 'd'\n",
    "    thresh = cm.max() / 2.0\n",
    "\n",
    "    # for i, j in itertools.product(range(cm.shape[0]), range(cm.shape[1])):\n",
    "    #     plt.text(j, i, format(cm[i, j], fmt),\n",
    "    #              horizontalalignment=\"center\",\n",
    "    #              color=\"white\" if cm[i, j] > thresh else \"black\")\n",
    "\n",
    "    plt.tight_layout()\n",
    "    plt.ylabel('True label')\n",
    "    plt.xlabel('Predicted label')\n",
    "\n",
    "# Example usage:\n",
    "# cm = np.array([[5, 2], [1, 7]])  # Example confusion matrix\n",
    "# classes = ['Class 0', 'Class 1']\n",
    "# plot_confusion_matrix(cm, classes, normalize=True)\n",
    "# plt.show()"
   ]
  },
  {
   "cell_type": "code",
   "execution_count": null,
   "id": "8fd788c1-dd38-483d-a66c-b05493ebf199",
   "metadata": {},
   "outputs": [],
   "source": [
    "birds = pd.read_csv('Bird Species/classes.txt',\n",
    "                   sep='\\s+', header=None, usecols=[1], names=['birdname'])\n",
    "birds = birds['birdname']\n",
    "birds"
   ]
  },
  {
   "cell_type": "code",
   "execution_count": null,
   "id": "c152d0bf-3641-4c80-bdc7-96e8be4dc587",
   "metadata": {
    "scrolled": true
   },
   "outputs": [],
   "source": [
    "import numpy as np \n",
    "np.set_printoptions(precision=2) \n",
    "plt.figure(figsize=(60,60), dpi=300) \n",
    "plot_confusion_matrix(cm, classes=birds, normalize=True) \n",
    "plt.show()"
   ]
  },
  {
   "cell_type": "code",
   "execution_count": null,
   "id": "bbd765c4-6d51-47b4-ad3a-d8e1ba024a4d",
   "metadata": {},
   "outputs": [],
   "source": [
    "from sklearn import tree\n",
    "ciftree = tree.DecisionTreeClassifier()\n",
    "ciftree.fit(df_train_att, df_train_label)\n",
    "ciftree.score(df_test_att, df_test_label)"
   ]
  },
  {
   "cell_type": "code",
   "execution_count": null,
   "id": "8f48b9d5-7c60-4c6d-82d4-4b7566c46ad1",
   "metadata": {},
   "outputs": [],
   "source": [
    "from sklearn import svm\n",
    "cifsvm = svm.SVC()\n",
    "cifsvm.fit(df_train_att, df_train_label)\n",
    "cifsvm.score(df_test_att, df_test_label)"
   ]
  },
  {
   "cell_type": "code",
   "execution_count": null,
   "id": "58824fd7-59af-4d50-8b1e-f84d0c642898",
   "metadata": {},
   "outputs": [],
   "source": [
    "from sklearn.model_selection import cross_val_score \n",
    "scores = cross_val_score(cif, df_train_att, df_train_label, cv=5) \n",
    "#show average score and +/- two standard deviations away (covering 95% of scores) \n",
    "print(\"Accuracy: %0.2f (+/- %0.2f)\" % (scores.mean(), scores.std()*2))"
   ]
  },
  {
   "cell_type": "code",
   "execution_count": null,
   "id": "80c2e89b-209d-4a48-bbe5-e6242d9d48d9",
   "metadata": {},
   "outputs": [],
   "source": [
    "scorestree = cross_val_score (ciftree, df_train_att, df_train_label, cv=5) \n",
    "print(\"Accuracy: %0.2f (+/- %0.2f)\" % (scorestree.mean(), scorestree.std()*2)) "
   ]
  },
  {
   "cell_type": "code",
   "execution_count": null,
   "id": "1182d938-7d2f-4372-a4a0-041708c82d0a",
   "metadata": {},
   "outputs": [],
   "source": [
    "scoressvm = cross_val_score(cifsvm, df_train_att, df_train_label, cv=5) \n",
    "print(\"Accuracy: %0.2f (+/-%0.2f)\" % (scoressvm.mean(), scoressvm.std() *2))"
   ]
  },
  {
   "cell_type": "code",
   "execution_count": null,
   "id": "1e172813-dfd4-46a4-8154-dddb175de2e0",
   "metadata": {},
   "outputs": [],
   "source": [
    "max_features_opts = range(5, 50, 5) \n",
    "n_estimators_opts = range(10, 200, 20) \n",
    "rf_params = np.empty((len(max_features_opts)*len(n_estimators_opts), 4), float) \n",
    "i = 0 \n",
    "for max_features in max_features_opts: \n",
    "    for n_estimators in n_estimators_opts: \n",
    "        cif = RandomForestClassifier(max_features=max_features, n_estimators=n_estimators) \n",
    "        scores = cross_val_score(cif, df_train_att, df_train_label, cv=5) \n",
    "        rf_params[i,0] =  max_features \n",
    "        rf_params[i,1] = n_estimators \n",
    "        rf_params[i,2] = scores.mean() \n",
    "        rf_params[i,3] = scores.std()*2 \n",
    "        i += 1 \n",
    "        print(\"Max features: %d, num estimators: %d, accuracy: %0.2f (+/- %0.2f)\" % \n",
    "        (max_features, n_estimators, scores.mean(), scores.std()*2))"
   ]
  },
  {
   "cell_type": "code",
   "execution_count": null,
   "id": "4dce7cc1-3943-4d11-9d00-438765a21400",
   "metadata": {},
   "outputs": [],
   "source": [
    "import matplotlib.pyplot as plt \n",
    "from mpl_toolkits.mplot3d import Axes3D \n",
    "from matplotlib import cm \n",
    "fig = plt.figure() \n",
    "fig.clf() \n",
    "ax = fig.gca(projection='3d') \n",
    "x = rf_params[:,0] \n",
    "y = rf_params[:,1] \n",
    "z = rf_params[:,2] \n",
    "ax.scatter(x, y, z) \n",
    "ax.set_zlim(0.2, 0.5) \n",
    "ax.set_xlabel('Max features') \n",
    "ax.set_ylabel('Num estimators\") \n",
    "ax.set_zlabel('Avg accuracy') \n",
    "plt.show()"
   ]
  }
 ],
 "metadata": {
  "kernelspec": {
   "display_name": "Python 3 (ipykernel)",
   "language": "python",
   "name": "python3"
  },
  "language_info": {
   "codemirror_mode": {
    "name": "ipython",
    "version": 3
   },
   "file_extension": ".py",
   "mimetype": "text/x-python",
   "name": "python",
   "nbconvert_exporter": "python",
   "pygments_lexer": "ipython3",
   "version": "3.10.6"
  }
 },
 "nbformat": 4,
 "nbformat_minor": 5
}
