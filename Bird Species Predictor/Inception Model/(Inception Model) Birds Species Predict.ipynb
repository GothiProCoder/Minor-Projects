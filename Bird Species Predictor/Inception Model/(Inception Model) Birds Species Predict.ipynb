{
 "cells": [
  {
   "cell_type": "code",
   "execution_count": 1,
   "id": "ede63155-d1a1-4c88-b2b9-831b49719877",
   "metadata": {},
   "outputs": [],
   "source": [
    "from keras.models import load_model \n",
    "from keras.preprocessing import image \n",
    "from os import listdir \n",
    "import numpy as np"
   ]
  },
  {
   "cell_type": "code",
   "execution_count": 2,
   "id": "af58592c-170f-451f-905b-6cb510240a36",
   "metadata": {},
   "outputs": [],
   "source": [
    "ROWS = 256\n",
    "COLS = 256"
   ]
  },
  {
   "cell_type": "code",
   "execution_count": null,
   "id": "94f9c231-6361-493c-831a-57f204895d81",
   "metadata": {},
   "outputs": [],
   "source": [
    "CLASS_NAMES = sorted(listdir('images'))\n",
    "model = load_model('birds-inceptionv3.keras')"
   ]
  },
  {
   "cell_type": "code",
   "execution_count": null,
   "id": "dde83101-60af-491c-b521-19bd99449973",
   "metadata": {},
   "outputs": [],
   "source": [
    "def predict(fname): \n",
    "    img = image.load_img(fname, target_size=(ROWS, COLS)) \n",
    "    img_tensor = image.img_to_array(img)  # (height, width, channels) \n",
    "    #(1, height, width, channels), add a dimension because the model expects this shape: \n",
    "    #(batch size, height, width, channels) \n",
    "    img_tensor = np.expand_dims(img_tensor, axis=0) \n",
    "    img tensor / 255. # model expects values in the range [0, 1] \n",
    "    prediction = model.predict(img_tensor)[0] \n",
    "    best_score_index = np.argmax(prediction) \n",
    "    bird = CLASS_NAMES[best_score_index] # retrieve original class name \n",
    "    print(\"Prediction: %s (%.2f%%)\" % (bird, 100*prediction[best_score_index]))"
   ]
  },
  {
   "cell_type": "code",
   "execution_count": null,
   "id": "28d25f0e-796c-445b-8ba0-6de242a508bf",
   "metadata": {},
   "outputs": [],
   "source": [
    "predict('test-birds/annas_hummingbird_sim_1.jpg') \n",
    "predict('test-birds/house_wren.jpg') \n",
    "predict('test-birds/canada_goose_1.jpg')"
   ]
  }
 ],
 "metadata": {
  "kernelspec": {
   "display_name": "Python 3 (ipykernel)",
   "language": "python",
   "name": "python3"
  },
  "language_info": {
   "codemirror_mode": {
    "name": "ipython",
    "version": 3
   },
   "file_extension": ".py",
   "mimetype": "text/x-python",
   "name": "python",
   "nbconvert_exporter": "python",
   "pygments_lexer": "ipython3",
   "version": "3.10.6"
  },
  "widgets": {
   "application/vnd.jupyter.widget-state+json": {
    "state": {},
    "version_major": 2,
    "version_minor": 0
   }
  }
 },
 "nbformat": 4,
 "nbformat_minor": 5
}
