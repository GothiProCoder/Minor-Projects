{
 "cells": [
  {
   "cell_type": "code",
   "execution_count": null,
   "id": "5e0f9afc-3ce1-4872-baa8-6611df532c9f",
   "metadata": {},
   "outputs": [],
   "source": [
    "import numpy as np \n",
    "from keras.applications.inception_v3 import InceptionV3 \n",
    "from keras.models import Sequential, load_model, Model \n",
    "from keras.layers import Input, Dropout, Flatten, Conv2D, MaxPooling2D, Dense, Activation, GlobalAveragePooling2D \n",
    "from keras.optimizers import SGD \n",
    "from keras.utils import to_categorical \n",
    "from tensorflow.keras.preprocessing.image import ImageDataGenerator \n",
    "from keras.callbacks import TensorBoard \n",
    "import itertools"
   ]
  },
  {
   "cell_type": "code",
   "execution_count": null,
   "id": "b1345a9f-03ac-4d59-b839-98352ee207e1",
   "metadata": {},
   "outputs": [],
   "source": [
    "ROWS = 256\n",
    "COLS = 256\n",
    "CHANNELS = 3"
   ]
  },
  {
   "cell_type": "code",
   "execution_count": null,
   "id": "b66e009a-7830-4941-815a-82ae38939441",
   "metadata": {},
   "outputs": [],
   "source": [
    "train_image_generator = ImageDataGenerator(horizontal_flip=True, rescale=1./255, rotation_range=45) \n",
    "test_image_generator = ImageDataGenerator(horizontal_flip=False, rescale=1./255, rotation_range=0)\n",
    "\n",
    "train_generator = train_image_generator.flow_from_directory('CUB_200_2011/train', target_size=(ROWS, COLS), class_mode='categorical')\n",
    "test_generator = test_image_generator.flow_from_directory('CUB_200_2011/test', target_size=(ROWS, COLS), class_mode='categorical') "
   ]
  },
  {
   "cell_type": "code",
   "execution_count": null,
   "id": "e7964b7a-a397-4c1b-9d83-64dc134f0493",
   "metadata": {},
   "outputs": [],
   "source": [
    "#create the base pre-trained model \n",
    "base_model = InceptionV3(weights='imagenet', include_top=False) \n",
    "\n",
    "#add a global spatial average pooling Layer \n",
    "x = base_model.output \n",
    "x = GlobalAveragePooling2D()(x) \n",
    "\n",
    "#add a fully-connected Layer \n",
    "x = Dense (1024, activation='relu')(x) \n",
    "out_layer = Dense(200, activation='softmax')(x) \n",
    "\n",
    "# this is the model we will train \n",
    "model = Model(inputs=base_model.input, outputs=out_layer)"
   ]
  },
  {
   "cell_type": "code",
   "execution_count": null,
   "id": "79a7d427-fa8c-43d4-9952-7dac12e2fc1b",
   "metadata": {},
   "outputs": [],
   "source": [
    "#first: train only the top Loyers (which were randomly initialized) \n",
    "#i.e. freeze all convolutional InceptionV3 Layers \n",
    "\n",
    "for layer in base_model.layers: \n",
    "    layer.trainable = False \n",
    "\n",
    "model.compile(loss='categorical_crossentropy', optimizer='rmsprop', metrics=['accuracy']) \n",
    "model.summary()"
   ]
  },
  {
   "cell_type": "code",
   "execution_count": null,
   "id": "ec79941a-f7e2-4e6d-925e-a2ac18f63110",
   "metadata": {
    "scrolled": true
   },
   "outputs": [],
   "source": [
    "from keras.callbacks import TensorBoard\n",
    "tensorboard = TensorBoard(log_dir='./logs')\n",
    "\n",
    "model.fit(train_generator, steps_per_epoch=32, epochs = 100, callbacks=[tensorboard], verbose=2)"
   ]
  },
  {
   "cell_type": "code",
   "execution_count": null,
   "id": "ce6b8212-c020-4989-8909-5696c12735a4",
   "metadata": {},
   "outputs": [],
   "source": [
    "print(model.evaluate(test_generator, steps=5000))"
   ]
  },
  {
   "cell_type": "code",
   "execution_count": null,
   "id": "5ed1bce5-9175-4dda-bc33-8d0c264be773",
   "metadata": {},
   "outputs": [],
   "source": [
    "#unfreeze all layers for more training. \n",
    "for layer in model.layers: \n",
    "    layer.trainable = True \n",
    "    \n",
    "# we need to recompile the model for these modifications to take effect \n",
    "# we use SGD with a Low Learning rate \n",
    "model.compile(optimizer=SGD(learning_rate=0.0001, momentum=0.9), loss=\"categorical_crossentropy\", metrics=[\"accuracy\"]) \n",
    "\n",
    "model.fit_generator(train_generator, steps_per_epoch=32, epochs=100)"
   ]
  },
  {
   "cell_type": "code",
   "execution_count": null,
   "id": "a352207e-7173-4d95-8b1d-1270a2bfe8b1",
   "metadata": {},
   "outputs": [],
   "source": [
    "test_generator.reset()\n",
    "print(model.evaluate(test_generator, steps=5000))"
   ]
  },
  {
   "cell_type": "code",
   "execution_count": null,
   "id": "2591a2b8-651d-4c0b-b90a-5665a1aa62a9",
   "metadata": {},
   "outputs": [],
   "source": [
    "model.save(\"birds-inceptionv3.keras\")"
   ]
  }
 ],
 "metadata": {
  "kernelspec": {
   "display_name": "Python 3 (ipykernel)",
   "language": "python",
   "name": "python3"
  },
  "language_info": {
   "codemirror_mode": {
    "name": "ipython",
    "version": 3
   },
   "file_extension": ".py",
   "mimetype": "text/x-python",
   "name": "python",
   "nbconvert_exporter": "python",
   "pygments_lexer": "ipython3",
   "version": "3.10.6"
  },
  "widgets": {
   "application/vnd.jupyter.widget-state+json": {
    "state": {},
    "version_major": 2,
    "version_minor": 0
   }
  }
 },
 "nbformat": 4,
 "nbformat_minor": 5
}
