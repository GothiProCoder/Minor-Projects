{
 "cells": [
  {
   "cell_type": "code",
   "execution_count": null,
   "id": "6cebc327-8d8c-49eb-a057-28fdb170f09f",
   "metadata": {},
   "outputs": [],
   "source": [
    "# Core Libraries\n",
    "import numpy as np\n",
    "import itertools\n",
    "\n",
    "# Keras Libraries for Model Building\n",
    "from keras.models import Sequential, load_model\n",
    "from keras.layers import Dropout, Flatten, Conv2D, MaxPooling2D, Dense, Activation\n",
    "from keras.utils import to_categorical\n",
    "from tensorflow.keras.preprocessing.image import ImageDataGenerator\n",
    "from keras.callbacks import TensorBoard\n"
   ]
  },
  {
   "cell_type": "code",
   "execution_count": null,
   "id": "37772ae8-1764-4957-aa71-a5eb63db6fd4",
   "metadata": {},
   "outputs": [],
   "source": [
    "ROWS = 256\n",
    "COLS = 256\n",
    "CHANNELS = 3"
   ]
  },
  {
   "cell_type": "code",
   "execution_count": null,
   "id": "ec568135-b91e-474e-ad03-f0875c5d5242",
   "metadata": {},
   "outputs": [],
   "source": [
    "import os\n",
    "import shutil\n",
    "import random\n",
    "\n",
    "def split_dataset(main_folder, output_folder, split_ratio=0.5):\n",
    "    train_folder = os.path.join(output_folder, 'train')\n",
    "    test_folder = os.path.join(output_folder, 'test')\n",
    "\n",
    "    # Create train and test directories\n",
    "    os.makedirs(train_folder, exist_ok=True)\n",
    "    os.makedirs(test_folder, exist_ok=True)\n",
    "\n",
    "    # Iterate through each class (subfolder)\n",
    "    for class_name in os.listdir(main_folder):\n",
    "        class_path = os.path.join(main_folder, class_name)\n",
    "\n",
    "        if not os.path.isdir(class_path):  # Ignore non-folder files\n",
    "            continue\n",
    "\n",
    "        # Create class folders in train and test directories\n",
    "        train_class_folder = os.path.join(train_folder, class_name)\n",
    "        test_class_folder = os.path.join(test_folder, class_name)\n",
    "        os.makedirs(train_class_folder, exist_ok=True)\n",
    "        os.makedirs(test_class_folder, exist_ok=True)\n",
    "\n",
    "        # Get all image files\n",
    "        images = [img for img in os.listdir(class_path) if img.lower().endswith(('jpg', 'jpeg', 'png'))]\n",
    "        random.shuffle(images)\n",
    "\n",
    "        # Split images\n",
    "        split_index = int(len(images) * split_ratio)\n",
    "        train_images = images[:split_index]\n",
    "        test_images = images[split_index:]\n",
    "\n",
    "        # Move images to respective folders\n",
    "        for img in train_images:\n",
    "            shutil.copy(os.path.join(class_path, img), os.path.join(train_class_folder, img))\n",
    "\n",
    "        for img in test_images:\n",
    "            shutil.copy(os.path.join(class_path, img), os.path.join(test_class_folder, img))\n",
    "\n",
    "        print(f\"Class '{class_name}': {len(train_images)} in train, {len(test_images)} in test.\")\n",
    "\n",
    "    print(\"Dataset split completed successfully!\")\n",
    "\n",
    "# Example usage:\n",
    "main_folder = \"CUB_200_2011/images\"  # Replace with your dataset path\n",
    "output_folder = \"CUB_200_2011/\"  # Replace with your desired output path\n",
    "split_dataset(main_folder, output_folder, split_ratio=0.5)"
   ]
  },
  {
   "cell_type": "code",
   "execution_count": null,
   "id": "baca728d-3cd3-42fe-a8ce-7d56842baff1",
   "metadata": {},
   "outputs": [],
   "source": [
    "train_image_generator = ImageDataGenerator(horizontal_flip=True, rescale=1./255, rotation_range=45) \n",
    "test_image_generator = ImageDataGenerator(horizontal_flip=False, rescale=1./255, rotation_range=0)\n",
    "\n",
    "train_generator = train_image_generator.flow_from_directory('CUB_200_2011/train', target_size=(ROWS, COLS), class_mode='categorical')\n",
    "test_generator = test_image_generator.flow_from_directory('CUB_200_2011/test', target_size=(ROWS, COLS), class_mode='categorical') "
   ]
  },
  {
   "cell_type": "code",
   "execution_count": null,
   "id": "618b3959-cd9c-4314-8d87-e456f28ed16f",
   "metadata": {},
   "outputs": [],
   "source": [
    "train_generator.reset() \n",
    "test_generator.reset()\n",
    "\n",
    "model = Sequential() \n",
    "model.add(Conv2D (64, (3,3), input_shape=(ROWS, COLS, CHANNELS))) \n",
    "model.add(Activation('relu')) \n",
    "model.add(Conv2D(64, (3,3))) \n",
    "model.add(Activation(\"relu\")) \n",
    "model.add(MaxPooling2D(pool_size=(4,4))) \n",
    "model.add(Conv2D(64, (3,3))) \n",
    "model.add(Activation(\"relu\")) \n",
    "model.add(Conv2D(64, (3,3))) \n",
    "model.add(Activation ('relu')) \n",
    "model.add(MaxPooling2D(pool_size=(4,4))) \n",
    "model.add(Flatten()) \n",
    "model.add(Dropout(0.5)) \n",
    "model.add(Dense(400)) \n",
    "model.add(Activation('relu')) \n",
    "model.add (Dropout(0.5)) \n",
    "model.add(Dense(200)) \n",
    "model.add(Activation('softmax')) \n",
    "\n",
    "model.compile(loss='categorical_crossentropy', optimizer='adamax', metrics=['accuracy'])\n",
    "\n",
    "model.summary()"
   ]
  },
  {
   "cell_type": "code",
   "execution_count": null,
   "id": "9e846fd0-c810-48aa-a7f9-da6b885eadfd",
   "metadata": {},
   "outputs": [],
   "source": [
    "from keras.callbacks import TensorBoard\n",
    "tensorboard = TensorBoard(log_dir='./logs/custom')\n",
    "\n",
    "model.fit(train_generator, steps_per_epoch=512, callbacks=[tensorboard], verbose=2)"
   ]
  },
  {
   "cell_type": "code",
   "execution_count": null,
   "id": "14cac377-6501-42f8-9f0c-ad08d82ccdce",
   "metadata": {},
   "outputs": [],
   "source": [
    "print(model.evaluate(test_generator, steps=1000))"
   ]
  }
 ],
 "metadata": {
  "kernelspec": {
   "display_name": "Python 3 (ipykernel)",
   "language": "python",
   "name": "python3"
  },
  "language_info": {
   "codemirror_mode": {
    "name": "ipython",
    "version": 3
   },
   "file_extension": ".py",
   "mimetype": "text/x-python",
   "name": "python",
   "nbconvert_exporter": "python",
   "pygments_lexer": "ipython3",
   "version": "3.10.6"
  },
  "widgets": {
   "application/vnd.jupyter.widget-state+json": {
    "state": {},
    "version_major": 2,
    "version_minor": 0
   }
  }
 },
 "nbformat": 4,
 "nbformat_minor": 5
}
