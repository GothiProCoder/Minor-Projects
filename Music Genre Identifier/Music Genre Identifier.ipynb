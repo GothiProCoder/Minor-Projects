{
 "cells": [
  {
   "cell_type": "code",
   "execution_count": null,
   "id": "fc61f63c-2afd-4162-808c-18765a7f4177",
   "metadata": {},
   "outputs": [],
   "source": [
    "import librosa \n",
    "import librosa.feature \n",
    "import librosa.display \n",
    "import glob \n",
    "import numpy as np \n",
    "import matplotlib.pyplot as plt \n",
    "from keras.models import Sequential \n",
    "from keras.layers import Dense, Activation \n",
    "from keras.utils import to_categorical"
   ]
  },
  {
   "cell_type": "code",
   "execution_count": null,
   "id": "0222738b-8330-49c8-8daa-ae3b035acbcd",
   "metadata": {},
   "outputs": [],
   "source": [
    "def display_mfcc(song): \n",
    "    y, _ =  librosa.load(song) \n",
    "    mfcc = librosa.feature.mfcc(y=y, sr=_) \n",
    "    plt.figure(figsize=(10, 4)) \n",
    "    librosa.display.specshow(mfcc, x_axis='time', y_axis='mel') \n",
    "    plt.colorbar() \n",
    "    plt.title(song) \n",
    "    plt.tight_layout() \n",
    "    plt.show()\n",
    "    print(y, mfcc, _)\n",
    "    print(len(y), len(mfcc))"
   ]
  },
  {
   "cell_type": "code",
   "execution_count": null,
   "id": "399da06d-a6c9-4046-9bb2-bfebd95c26ee",
   "metadata": {},
   "outputs": [],
   "source": [
    "display_mfcc('genres/rock/rock.00000.wav')"
   ]
  },
  {
   "cell_type": "code",
   "execution_count": null,
   "id": "bfed88e9-6e22-45c8-a228-e0ef51f026e3",
   "metadata": {},
   "outputs": [],
   "source": [
    "def extract_features_song(f):\n",
    "    y, _ = librosa.load(f)\n",
    "\n",
    "    #mel frequency cepstral coefficient\n",
    "    mfcc = librosa.feature.mfcc(y=y)\n",
    "\n",
    "    #normalize\n",
    "\n",
    "    mfcc /= np.amax(np.absolute(mfcc))\n",
    "\n",
    "    return np.ndarray.flatten(mfcc)[:25000]"
   ]
  },
  {
   "cell_type": "code",
   "execution_count": null,
   "id": "2a1a0fbd-66e6-459a-897c-5fe4428de6ce",
   "metadata": {},
   "outputs": [],
   "source": [
    "def generate_features_and_labels(): \n",
    "    all_features = [] \n",
    "    all_labels = [] \n",
    "    \n",
    "    genres = ['blues', 'classical', 'country', 'disco', 'hiphop', 'jazz', 'metal', 'pop', 'reggae', 'rock'] \n",
    "    for genre in genres: \n",
    "        sound_files = glob.glob(f'genres/{genre}/{genre}.*.wav')\n",
    "        print('Processing %d songs in %s genre...' % (len(sound_files), genre)) \n",
    "        for f in sound_files: \n",
    "            features = extract_features_song(f) \n",
    "            all_features.append(features) \n",
    "            all_labels.append(genre) \n",
    "            \n",
    "    #convert Labels to one-hot encoding \n",
    "    label_uniq_ids, label_row_ids = np.unique(all_labels, return_inverse=True) \n",
    "    label_row_ids = label_row_ids.astype(np.int32, copy=False) \n",
    "    onehot_labels = to_categorical(label_row_ids, len(label_uniq_ids)) \n",
    "    return np.stack(all_features), onehot_labels"
   ]
  },
  {
   "cell_type": "code",
   "execution_count": null,
   "id": "62465ad1-96cc-4cd5-8a7f-81a83eafc399",
   "metadata": {},
   "outputs": [],
   "source": [
    "features, labels = generate_features_and_labels()"
   ]
  },
  {
   "cell_type": "code",
   "execution_count": null,
   "id": "13f0bcbf-5a13-4b9b-a5db-c1bf44af36c3",
   "metadata": {},
   "outputs": [],
   "source": [
    "len(features)"
   ]
  },
  {
   "cell_type": "code",
   "execution_count": null,
   "id": "78f338a4-d7ac-4e4b-b1a1-b585e31d8d58",
   "metadata": {},
   "outputs": [],
   "source": [
    "labels"
   ]
  },
  {
   "cell_type": "code",
   "execution_count": null,
   "id": "eb23625c-d87b-4477-8678-e09b21ed1e58",
   "metadata": {},
   "outputs": [],
   "source": [
    "len(labels)"
   ]
  },
  {
   "cell_type": "code",
   "execution_count": null,
   "id": "3d892993-7d35-4855-b0da-c2394404d0c0",
   "metadata": {},
   "outputs": [],
   "source": [
    "print(np.shape(features)) \n",
    "print(np.shape(labels)) \n",
    "\n",
    "training_split = 0.8 \n",
    "\n",
    "# Last column has genre, turn it into unique ids \n",
    "alldata = np.column_stack((features, labels)) \n",
    "\n",
    "np.random.shuffle(alldata) \n",
    "splitidx= int(len(alldata) * training_split)\n",
    "train, test = alldata[:splitidx,:], alldata[splitidx:,:] \n",
    "\n",
    "print(np.shape(train)) \n",
    "print(np.shape(test)) \n",
    "\n",
    "train_input = train[:,:-10] \n",
    "train_labels = train[:,-10:] \n",
    "\n",
    "test_input = test[:,:-10] \n",
    "test_labels = test[:,-10:] \n",
    "           \n",
    "print(np.shape(train_input)) \n",
    "print(np.shape(train_labels))"
   ]
  },
  {
   "cell_type": "code",
   "execution_count": null,
   "id": "383ee8c5-808b-4758-91b7-f338fcacdb26",
   "metadata": {},
   "outputs": [],
   "source": [
    "model = Sequential([ \n",
    "    Dense (100, input_dim=np.shape(train_input)[1]), \n",
    "    Activation('relu'), \n",
    "    Dense(10), \n",
    "    Activation('softmax'), \n",
    "]) \n",
    "\n",
    "model.compile(optimizer='adam', \n",
    "              loss='categorical_crossentropy', \n",
    "              metrics=['accuracy']) \n",
    "\n",
    "print(model.summary()) \n",
    "\n",
    "model.fit(train_input, train_labels, epochs=20, batch_size=32, \n",
    "          validation_split=0.2) \n",
    "\n",
    "loss, acc = model.evaluate(test_input, test_labels, batch_size=32) \n",
    "\n",
    "print(\"Done!\") \n",
    "print(\"Loss: %.4f, accuracy: %.4f\" % (loss, acc))"
   ]
  },
  {
   "cell_type": "code",
   "execution_count": null,
   "id": "d5e4fae4-7743-4a44-b1d4-860099509a23",
   "metadata": {},
   "outputs": [],
   "source": [
    "train_input[0]"
   ]
  },
  {
   "cell_type": "code",
   "execution_count": null,
   "id": "9fc0456a-7b9b-442b-907e-e9724a3a8b49",
   "metadata": {},
   "outputs": [],
   "source": [
    "from keras.layers import LeakyReLU\n",
    "\n",
    "model = Sequential([ \n",
    "    Dense (100, input_dim=np.shape(train_input)[1]), \n",
    "    Activation('relu'), \n",
    "    Dense(128), \n",
    "    Activation('relu'),\n",
    "    Dense(64),\n",
    "    Activation('relu'),\n",
    "    Dense(256),\n",
    "    LeakyReLU(alpha=0.1),\n",
    "    Dense(10), \n",
    "    Activation('softmax'), \n",
    "]) \n",
    "\n",
    "from keras.optimizers import Adam\n",
    "\n",
    "optimizer = Adam(learning_rate=0.0005)\n",
    "\n",
    "model.compile(optimizer=optimizer, \n",
    "              loss='categorical_crossentropy', \n",
    "              metrics=['accuracy']) \n",
    "\n",
    "print(model.summary()) \n",
    "\n",
    "model.fit(train_input, train_labels, epochs=50, batch_size=32, \n",
    "          validation_split=0.2) \n",
    "\n",
    "loss, acc = model.evaluate(test_input, test_labels, batch_size=32) \n",
    "\n",
    "print(\"Done!\") \n",
    "print(\"Loss: %.4f, accuracy: %.4f\" % (loss, acc))"
   ]
  },
  {
   "cell_type": "code",
   "execution_count": null,
   "id": "61b90b97-e629-4e93-a31c-d61cea90e9ea",
   "metadata": {},
   "outputs": [],
   "source": []
  }
 ],
 "metadata": {
  "kernelspec": {
   "display_name": "Python 3 (ipykernel)",
   "language": "python",
   "name": "python3"
  },
  "language_info": {
   "codemirror_mode": {
    "name": "ipython",
    "version": 3
   },
   "file_extension": ".py",
   "mimetype": "text/x-python",
   "name": "python",
   "nbconvert_exporter": "python",
   "pygments_lexer": "ipython3",
   "version": "3.10.6"
  },
  "widgets": {
   "application/vnd.jupyter.widget-state+json": {
    "state": {},
    "version_major": 2,
    "version_minor": 0
   }
  }
 },
 "nbformat": 4,
 "nbformat_minor": 5
}
