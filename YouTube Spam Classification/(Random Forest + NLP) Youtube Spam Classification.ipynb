{
 "cells": [
  {
   "cell_type": "code",
   "execution_count": null,
   "id": "ab86f7d9-801c-428b-ba08-5860100223e9",
   "metadata": {
    "editable": true,
    "slideshow": {
     "slide_type": ""
    },
    "tags": []
   },
   "outputs": [],
   "source": [
    "import pandas as pd\n",
    "d = pd.read_csv('Youtube Spam Classification/Youtube01-Psy.csv')"
   ]
  },
  {
   "cell_type": "code",
   "execution_count": null,
   "id": "5497e829-0958-4b5f-b2c1-bd16a5eff758",
   "metadata": {},
   "outputs": [],
   "source": [
    "d.tail()"
   ]
  },
  {
   "cell_type": "code",
   "execution_count": null,
   "id": "eb80212e-6c5e-48f3-903c-3da4e4cc27e8",
   "metadata": {},
   "outputs": [],
   "source": [
    "len(d.query('CLASS == 1'))"
   ]
  },
  {
   "cell_type": "code",
   "execution_count": null,
   "id": "569eb0ed-47f7-4db3-8991-6e2f3a50947d",
   "metadata": {},
   "outputs": [],
   "source": [
    "len(d.query('CLASS == 0'))"
   ]
  },
  {
   "cell_type": "code",
   "execution_count": null,
   "id": "9ffd6f8b-1c3f-400c-b0e1-0ec20646363c",
   "metadata": {},
   "outputs": [],
   "source": [
    "len(d)"
   ]
  },
  {
   "cell_type": "code",
   "execution_count": null,
   "id": "ef1db6e3-b387-4edd-96ef-45e4f4ea5ea1",
   "metadata": {},
   "outputs": [],
   "source": [
    "from sklearn.feature_extraction.text import CountVectorizer\n",
    "vectorizer = CountVectorizer()"
   ]
  },
  {
   "cell_type": "code",
   "execution_count": null,
   "id": "fd5f3c38-1eeb-4ebc-8735-56052c80cc67",
   "metadata": {},
   "outputs": [],
   "source": [
    "dvec = vectorizer.fit_transform(d['CONTENT'])"
   ]
  },
  {
   "cell_type": "code",
   "execution_count": null,
   "id": "1c5f6c7c-16a0-48fc-93d6-9d0d1d0784cb",
   "metadata": {},
   "outputs": [],
   "source": [
    "print(dvec)"
   ]
  },
  {
   "cell_type": "code",
   "execution_count": null,
   "id": "b73d9361-632f-4553-b4b9-6741e0b5a7ce",
   "metadata": {},
   "outputs": [],
   "source": [
    "analyze = vectorizer.build_analyzer()"
   ]
  },
  {
   "cell_type": "code",
   "execution_count": null,
   "id": "8732aa5a-4fe4-449a-9be9-666eb0662b1f",
   "metadata": {},
   "outputs": [],
   "source": [
    "print(d['CONTENT'][349])\n",
    "analyze(d['CONTENT'][349])"
   ]
  },
  {
   "cell_type": "code",
   "execution_count": null,
   "id": "9b18b754-1f0e-4dcd-93eb-16200d584cdc",
   "metadata": {},
   "outputs": [],
   "source": [
    "vectorizer.get_feature_names_out()"
   ]
  },
  {
   "cell_type": "code",
   "execution_count": null,
   "id": "31dfaa79-6976-4406-8184-e18a40eb71b9",
   "metadata": {},
   "outputs": [],
   "source": [
    "dshuf = d.sample(frac=1)"
   ]
  },
  {
   "cell_type": "code",
   "execution_count": null,
   "id": "72e5b616-b350-46b7-ae36-d935a425ab6c",
   "metadata": {},
   "outputs": [],
   "source": [
    "d_train = dshuf[:300]\n",
    "d_test = dshuf[300:]\n",
    "d_train_att = vectorizer.fit_transform(d_train['CONTENT'])\n",
    "d_test_att = vectorizer.transform(d_test['CONTENT'])\n",
    "d_train_label = d_train['CLASS']\n",
    "d_test_label = d_test['CLASS']"
   ]
  },
  {
   "cell_type": "code",
   "execution_count": null,
   "id": "c8284243-3806-4924-8e35-3d0f435a7453",
   "metadata": {},
   "outputs": [],
   "source": [
    "print(d_train_att[0])"
   ]
  },
  {
   "cell_type": "code",
   "execution_count": null,
   "id": "074da2ff-c591-4c68-b59a-8bbf6f3ba682",
   "metadata": {},
   "outputs": [],
   "source": [
    "print(d_train_label)"
   ]
  },
  {
   "cell_type": "code",
   "execution_count": null,
   "id": "0739a17b-38aa-43a8-884d-68003b93dffc",
   "metadata": {},
   "outputs": [],
   "source": [
    "from sklearn.ensemble import RandomForestClassifier\n",
    "clf = RandomForestClassifier(n_estimators=80)"
   ]
  },
  {
   "cell_type": "code",
   "execution_count": null,
   "id": "f59aea6a-dd95-480e-ad26-d72d23b4e429",
   "metadata": {},
   "outputs": [],
   "source": [
    "clf.fit(d_train_att, d_train_label)"
   ]
  },
  {
   "cell_type": "code",
   "execution_count": null,
   "id": "33a00726-9aa5-4369-84d4-c7aed7c54a4e",
   "metadata": {},
   "outputs": [],
   "source": [
    "clf.score(d_test_att, d_test_label)"
   ]
  },
  {
   "cell_type": "code",
   "execution_count": null,
   "id": "391f6362-f7b7-44d0-b082-d1af34be0dae",
   "metadata": {},
   "outputs": [],
   "source": [
    "from sklearn.metrics import confusion_matrix\n",
    "pred_labels = clf.predict(d_test_att)\n",
    "confusion_matrix(d_test_label, pred_labels)"
   ]
  },
  {
   "cell_type": "code",
   "execution_count": null,
   "id": "dfeede5a-3851-4233-9587-a45a9e0cefa2",
   "metadata": {},
   "outputs": [],
   "source": [
    "from sklearn.model_selection import cross_val_score\n",
    "scores = cross_val_score(clf, d_train_att, d_train_label, cv=5)\n",
    "print('Accuracy: %0.2f (+/- %0.2f)' %(scores.mean(), scores.std()*2))"
   ]
  },
  {
   "cell_type": "code",
   "execution_count": null,
   "id": "6e833cdd-37ba-484e-a128-a759dab6d4eb",
   "metadata": {},
   "outputs": [],
   "source": [
    "d = pd.concat([pd.read_csv('Youtube Spam Classification/Youtube01-Psy.csv'),\n",
    "              pd.read_csv('Youtube Spam Classification/Youtube02-KatyPerry.csv'),\n",
    "              pd.read_csv('Youtube Spam Classification/Youtube03-LMFAO.csv'),\n",
    "              pd.read_csv('Youtube Spam Classification/Youtube04-Eminem.csv'),\n",
    "              pd.read_csv('Youtube Spam Classification/Youtube05-Shakira.csv')])"
   ]
  },
  {
   "cell_type": "code",
   "execution_count": null,
   "id": "71d1323c-dd5f-4195-85ff-395b2850cfdc",
   "metadata": {},
   "outputs": [],
   "source": [
    "d"
   ]
  },
  {
   "cell_type": "code",
   "execution_count": null,
   "id": "8bc36397-6a17-4da4-a83b-b187cf8ca0ef",
   "metadata": {},
   "outputs": [],
   "source": [
    "len(d)"
   ]
  },
  {
   "cell_type": "code",
   "execution_count": null,
   "id": "a505053f-2493-43c3-aa19-144a75232cab",
   "metadata": {},
   "outputs": [],
   "source": [
    "len(d.query('CLASS == 1'))"
   ]
  },
  {
   "cell_type": "code",
   "execution_count": null,
   "id": "ec0f1058-aecc-4286-98d0-a46c93493642",
   "metadata": {},
   "outputs": [],
   "source": [
    "len(d.query('CLASS == 0'))"
   ]
  },
  {
   "cell_type": "code",
   "execution_count": null,
   "id": "5003859a-16b7-4656-ac34-596d7b46de8a",
   "metadata": {},
   "outputs": [],
   "source": [
    "dshuf = d.sample(frac=1)\n",
    "d_content = dshuf['CONTENT']\n",
    "d_label = dshuf['CLASS']"
   ]
  },
  {
   "cell_type": "code",
   "execution_count": null,
   "id": "f4c60717-8936-4434-adc6-3358215d5e6e",
   "metadata": {},
   "outputs": [],
   "source": [
    "from sklearn.pipeline import Pipeline, make_pipeline\n",
    "pipeline = Pipeline([\n",
    "    ('bag-of-words', CountVectorizer()),\n",
    "    ('random-forest', RandomForestClassifier())\n",
    "])\n",
    "pipeline"
   ]
  },
  {
   "cell_type": "code",
   "execution_count": null,
   "id": "8a8884f6-a77e-43f1-85f2-4c3ef3ed1bf4",
   "metadata": {},
   "outputs": [],
   "source": [
    "pipeline.fit(d_content[:1500], d_label[:1500])"
   ]
  },
  {
   "cell_type": "code",
   "execution_count": null,
   "id": "393e413d-02bc-4885-9888-0741dbe356ae",
   "metadata": {},
   "outputs": [],
   "source": [
    "pipeline.score(d_content[1500:], d_label[1500:])"
   ]
  },
  {
   "cell_type": "code",
   "execution_count": null,
   "id": "638b40f8-3ad7-4a9e-85df-00963f3087c7",
   "metadata": {},
   "outputs": [],
   "source": [
    "pipeline.predict(['it is a very good video!'])"
   ]
  },
  {
   "cell_type": "code",
   "execution_count": null,
   "id": "00fe9e4d-9c25-4187-971c-3173890d7981",
   "metadata": {},
   "outputs": [],
   "source": [
    "pipeline.predict(['it is a very good video! (Subscribee to my cahnel)'])"
   ]
  },
  {
   "cell_type": "code",
   "execution_count": null,
   "id": "bb59da8d-7aa3-4d55-aee7-14a5a0095d76",
   "metadata": {},
   "outputs": [],
   "source": [
    "scores = cross_val_score(pipeline, d_content, d_label, cv=5)\n",
    "print('Accuracy: %0.2f (+/- %0.2f)' %(scores.mean(), scores.std()*2))"
   ]
  },
  {
   "cell_type": "code",
   "execution_count": null,
   "id": "54ec2c02-0141-4a4f-b875-4d817f23e49e",
   "metadata": {},
   "outputs": [],
   "source": [
    "from sklearn.feature_extraction.text import TfidfTransformer\n",
    "pipeline2 = make_pipeline(CountVectorizer(),\n",
    "                         TfidfTransformer(norm=None),\n",
    "                         RandomForestClassifier())"
   ]
  },
  {
   "cell_type": "code",
   "execution_count": null,
   "id": "af34f57a-da9a-49ef-9a8f-c068f36fef3e",
   "metadata": {},
   "outputs": [],
   "source": [
    "scores = cross_val_score(pipeline2, d_content, d_label, cv=5)\n",
    "print('Accuracy: %0.2f (+/- %0.2f)' %(scores.mean(), scores.std()*2))"
   ]
  },
  {
   "cell_type": "code",
   "execution_count": null,
   "id": "aba4e3ff-2468-40d6-ade4-9782ed8331f7",
   "metadata": {},
   "outputs": [],
   "source": [
    "pipeline2.steps"
   ]
  },
  {
   "cell_type": "code",
   "execution_count": null,
   "id": "b09d4279-a970-4a27-886f-8c556068ec1e",
   "metadata": {},
   "outputs": [],
   "source": [
    "parameters = { \n",
    "    'countvectorizer__max_features': (None, 1000, 2000), \n",
    "    'countvectorizer__ngram_range': ((1, 1), (1, 2)), #unigrams or bigrams \n",
    "    'countvectorizer__stop_words': ('english', None), \n",
    "    'tfidftransformer__use_idf': (True, False), # effectively turn on/off tfidf \n",
    "    'randomforestclassifier__n_estimators': (20, 50, 100) \n",
    "} \n",
    "from sklearn.model_selection import GridSearchCV\n",
    "grid_search = GridSearchCV(pipeline2, parameters, n_jobs=-1, verbose=1)"
   ]
  },
  {
   "cell_type": "code",
   "execution_count": null,
   "id": "951ce637-cfe0-4afb-bf09-e4e5846f9fe6",
   "metadata": {},
   "outputs": [],
   "source": [
    "grid_search.fit(d_content, d_label)"
   ]
  },
  {
   "cell_type": "code",
   "execution_count": null,
   "id": "5fcce0cf-9012-4e9d-b4d7-3fc1990e7172",
   "metadata": {},
   "outputs": [],
   "source": [
    "print(\"Best score: %0.3f\" % grid_search.best_score_) \n",
    "print(\"Best parameters set:\") \n",
    "best_parameters = grid_search.best_estimator_.get_params() \n",
    "for param_name in sorted(parameters.keys()): \n",
    "    print(\"\\t%s: %r\" % (param_name, best_parameters[param_name]))"
   ]
  }
 ],
 "metadata": {
  "kernelspec": {
   "display_name": "Python 3 (ipykernel)",
   "language": "python",
   "name": "python3"
  },
  "language_info": {
   "codemirror_mode": {
    "name": "ipython",
    "version": 3
   },
   "file_extension": ".py",
   "mimetype": "text/x-python",
   "name": "python",
   "nbconvert_exporter": "python",
   "pygments_lexer": "ipython3",
   "version": "3.10.6"
  }
 },
 "nbformat": 4,
 "nbformat_minor": 5
}
